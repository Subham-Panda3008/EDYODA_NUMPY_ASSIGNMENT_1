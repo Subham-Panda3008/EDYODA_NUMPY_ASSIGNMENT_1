{
 "cells": [
  {
   "cell_type": "code",
   "execution_count": 10,
   "id": "9d0ac1ba",
   "metadata": {},
   "outputs": [
    {
     "name": "stdout",
     "output_type": "stream",
     "text": [
      "25 random numbers from a standard normal distribution:\n",
      "[-0.17799948  0.26636019 -0.47604764  1.51229547 -0.85330939 -0.43187395\n",
      "  0.78790949  1.1131185  -0.19558536 -0.11099398  1.06447664 -0.17653787\n",
      "  1.14032016 -0.80090871 -1.12175247  0.38267508  0.47324506  0.45263273\n",
      " -0.69593843 -0.84691301 -0.34201427 -0.77942628 -0.95366391  1.56847831\n",
      " -0.3303078 ]\n"
     ]
    }
   ],
   "source": [
    "import numpy as np\n",
    "# Q-1 Use numpy to generate array of 25 random numbers sampled from a standard normal distribution\n",
    "rand_num = np.random.normal(0,1,25)\n",
    "print(\"25 random numbers from a standard normal distribution:\")\n",
    "print(rand_num)"
   ]
  },
  {
   "cell_type": "code",
   "execution_count": 3,
   "id": "68ea5f75",
   "metadata": {},
   "outputs": [
    {
     "name": "stdout",
     "output_type": "stream",
     "text": [
      "0.4458464060770294\n"
     ]
    }
   ],
   "source": [
    "# Q-2 Create a random vector of size 30 and find the mean value.\n",
    "x = np.random.random(30)\n",
    "x.mean()\n",
    "print(x.mean())"
   ]
  },
  {
   "cell_type": "code",
   "execution_count": 4,
   "id": "caad6d6a",
   "metadata": {},
   "outputs": [
    {
     "name": "stdout",
     "output_type": "stream",
     "text": [
      "[[  1   2   3   4   5   6   7   8   9  10]\n",
      " [ 11  12  13  14  15  16  17  18  19  20]\n",
      " [ 21  22  23  24  25  26  27  28  29  30]\n",
      " [ 31  32  33  34  35  36  37  38  39  40]\n",
      " [ 41  42  43  44  45  46  47  48  49  50]\n",
      " [ 51  52  53  54  55  56  57  58  59  60]\n",
      " [ 61  62  63  64  65  66  67  68  69  70]\n",
      " [ 71  72  73  74  75  76  77  78  79  80]\n",
      " [ 81  82  83  84  85  86  87  88  89  90]\n",
      " [ 91  92  93  94  95  96  97  98  99 100]]\n"
     ]
    }
   ],
   "source": [
    "# Q3-Insert 1 to 100 numbers in a numpy array and reshape it to 10*10 matrix.\n",
    "data1 = list(range(1, 101))\n",
    "arr1 = np.array(data1)\n",
    "arr1 = np.arange(1, 101).reshape(10, -1)\n",
    "print(arr1)"
   ]
  },
  {
   "cell_type": "code",
   "execution_count": 11,
   "id": "12e61664",
   "metadata": {},
   "outputs": [
    {
     "name": "stdout",
     "output_type": "stream",
     "text": [
      "Original Array:\n",
      "[[9.32761906e-01 2.47483216e-01 1.99490499e-01 2.93459226e-01\n",
      "  9.94479449e-01 1.56692444e-01 5.64506146e-01 4.88903857e-01\n",
      "  9.51277183e-01 3.14475644e-01]\n",
      " [1.83858793e-01 5.79857490e-01 7.03631260e-01 6.70320120e-01\n",
      "  2.63356639e-01 9.18077237e-01 5.68346615e-01 1.66235278e-01\n",
      "  3.12255026e-01 7.40579925e-02]\n",
      " [5.88865591e-01 4.71696592e-01 6.67438517e-04 3.71230516e-01\n",
      "  4.57877434e-02 6.68847575e-01 4.30683439e-01 1.51100687e-02\n",
      "  4.09166861e-01 4.22307830e-01]\n",
      " [8.70713420e-01 4.79770703e-01 5.74159685e-01 2.00849198e-01\n",
      "  7.26142251e-01 7.63106130e-01 3.28001743e-01 6.36676325e-01\n",
      "  4.96094205e-01 3.75326380e-01]\n",
      " [6.79886855e-02 3.90831886e-01 9.34421273e-01 6.31671530e-01\n",
      "  2.02863565e-01 6.04346737e-01 9.63753508e-01 5.29129310e-01\n",
      "  6.65767000e-01 1.77968157e-01]\n",
      " [1.91373499e-02 5.43780471e-01 3.20958421e-02 8.40871403e-01\n",
      "  8.83125298e-01 7.71038078e-01 9.59585052e-01 5.17892952e-01\n",
      "  9.98376935e-02 2.92182402e-01]\n",
      " [7.77779297e-01 7.43572142e-01 5.82872123e-01 7.39071163e-01\n",
      "  9.40255696e-01 1.15667359e-01 9.74864826e-01 9.54302239e-01\n",
      "  7.21996548e-01 3.56754726e-01]\n",
      " [9.78719430e-01 1.62031260e-01 7.63519079e-01 4.78115814e-01\n",
      "  9.28157967e-01 8.19293588e-01 2.48910799e-01 7.59190531e-01\n",
      "  7.85552548e-01 3.82883272e-01]\n",
      " [8.32865737e-01 5.36485128e-01 4.52770323e-01 6.72919952e-01\n",
      "  5.86341126e-01 8.76675199e-02 9.94080755e-01 2.31939646e-01\n",
      "  8.93966456e-01 8.57753698e-01]\n",
      " [2.98965504e-01 8.00486578e-01 7.68134830e-01 9.18931060e-01\n",
      "  9.90242019e-01 4.26746898e-01 5.31235591e-04 3.96710055e-01\n",
      "  8.38240945e-01 4.82090413e-01]]\n",
      "Minimum value: 0.0005312355909760091\n",
      "maximum value: 0.9944794494934753\n"
     ]
    }
   ],
   "source": [
    "# Q4-Create a 10x10 array with random values and find the minimum and maximum values.\n",
    "arr = np.random.random((10,10))\n",
    "print(\"Original Array:\")\n",
    "print(arr) \n",
    "arrmin, arrmax = arr.min(), arr.max()\n",
    "print(\"Minimum value:\",arrmin)\n",
    "print(\"maximum value:\",arrmax)"
   ]
  },
  {
   "cell_type": "code",
   "execution_count": 6,
   "id": "d657279d",
   "metadata": {},
   "outputs": [
    {
     "name": "stdout",
     "output_type": "stream",
     "text": [
      "14\n"
     ]
    }
   ],
   "source": [
    "# Q5-Find Dot product of two arrays\n",
    "f = np.array([1,2])\n",
    "g = np.array([4,5])\n",
    "print(np.dot(f,g))"
   ]
  },
  {
   "cell_type": "code",
   "execution_count": 7,
   "id": "c85ccf58",
   "metadata": {},
   "outputs": [
    {
     "name": "stdout",
     "output_type": "stream",
     "text": [
      "[[1 2]\n",
      " [3 4]\n",
      " [5 6]]\n"
     ]
    }
   ],
   "source": [
    "# Q6-Concatenate following arrays along axis=0\n",
    "x=np.array([[1,2],[3,4]])\n",
    "y=np.array([[5,6]])\n",
    "print(np.concatenate((x, y), axis=0))"
   ]
  },
  {
   "cell_type": "code",
   "execution_count": 8,
   "id": "989f7cde",
   "metadata": {},
   "outputs": [
    {
     "name": "stdout",
     "output_type": "stream",
     "text": [
      "[2 4]\n"
     ]
    }
   ],
   "source": [
    "# Q7-How to get the common items between two python numpy arrays?\n",
    "a = np.array([1,2,3,2,3,4,3,4,5,6])\n",
    "b = np.array([7,2,10,2,7,4,9,4,9,8])\n",
    "print(np.intersect1d(a,b))"
   ]
  },
  {
   "cell_type": "code",
   "execution_count": 12,
   "id": "7b0a4f56",
   "metadata": {},
   "outputs": [
    {
     "name": "stdout",
     "output_type": "stream",
     "text": [
      "[ 1  2  3  4  5  7  8 10]\n"
     ]
    }
   ],
   "source": [
    "# Q8-Sort the numpy array:\n",
    "arr = np.array([10,5,8,4,7,2,3,1])\n",
    "print(np.sort(arr))"
   ]
  },
  {
   "cell_type": "code",
   "execution_count": null,
   "id": "1e8bb697",
   "metadata": {},
   "outputs": [],
   "source": []
  }
 ],
 "metadata": {
  "kernelspec": {
   "display_name": "Python 3",
   "language": "python",
   "name": "python3"
  },
  "language_info": {
   "codemirror_mode": {
    "name": "ipython",
    "version": 3
   },
   "file_extension": ".py",
   "mimetype": "text/x-python",
   "name": "python",
   "nbconvert_exporter": "python",
   "pygments_lexer": "ipython3",
   "version": "3.9.5"
  }
 },
 "nbformat": 4,
 "nbformat_minor": 5
}
